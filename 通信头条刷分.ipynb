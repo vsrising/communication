{
 "cells": [
  {
   "cell_type": "code",
   "execution_count": 15,
   "id": "20659f11",
   "metadata": {},
   "outputs": [
    {
     "name": "stdout",
     "output_type": "stream",
     "text": [
      "{\"code\":1,\"message\":\"成功\",\"data\":{\"total\":24825,\"list\":[{\"id\":\"1519232814543933440\",\"createTime\":\"2022-04-27 16:31:44\",\"updateTime\":\"2022-04-27 16:31:44\",\"deleted\":\"0\",\"userId\":null,\"companyId\":\"\",\"title\":\"倒计时60天！5G闪耀这座城市！\",\"wechatArticleUrl\":\"https://mp.weixin.qq.com/s/1ALrm5uC-IlIscIHAJCzfw\",\"display\":1,\"targetGuantity\":null,\"isType\":3,\"coverImg\":\"/files/wechatShareTask/reduce//2022/4/27/img/20220427163143/20220427163143.jpg\",\"newsContent\":\"\",\"newsName\":\"倒计时60天！5G闪耀这座城市！\",\"procInstId\":\"1717208\",\"checker\":null,\"auditState\":4,\"name\":\"陈博博\",\"serviceId\":\"1,3\",\"releaseTime\":null,\"wechatCount\":null,\"isTop\":1,\"topDays\":10,\"isAct\":1,\"actId\":\"1443487478316142592\",\"releaseType\":0,\"videoPath\":\"\",\"urlType\":1,\"companyName\":null,\"rejectReason\":null,\"source\":\"中国电信\",\"isRead\":\"\",\"storagePath\":null,\"weiboArticleId\":null,\"createName\":null,\"secondaryColumn\":\"v03,,v02,\",\"isLocalAct\":0,\"actName\":\"2022劳动竞赛\",\"isLocal_data\":null,\"styleColor\":\"{\\\"id\\\": \\\"5\\\", \\\"bColor\\\": \\\"#FF9000\\\", \\\"eColor\\\": \\\"#FFCF29\\\"}\",\"topShowScore\":null,\"shortTitle\":null,\"videoSourcePath\":\"\",\"videoDirection\":0,\"activeType\":1,\"topTime\":null,\"readTotalNum\":0,\"shareImg\":\"/files/wechatShareTask/reduce//2022/4/27/img/20220427163143/20220427163143.jpg\",\"provinceName\":null,\"isTopArticle\":0,\"firstColumnNameStr\":null,\"secondaryColumnNameStr\":null},{\"id\":\"1519133582210240512\",\"createTime\":\"2022-04-27 09:57:25\",\"updateTime\":\"2022-04-27 09:57:25\",\"deleted\":\"0\",\"userId\":null,\"companyId\":\"\",\"title\":\"人民论坛：坚持“动态清零”实质就是坚持人民至上、生命至上\",\"wechatArticleUrl\":\"https://wap.peopleapp.com/article/6653733/6528307\",\"display\":1,\"targetGuantity\":null,\"isType\":3,\"coverImg\":\"/files/wechatShareTask/reduce//2022/4/27/img/20220427095724/20220427095724.jpg\",\"newsContent\":\"\",\"newsName\":\"\",\"procInstId\":\"1716177\",\"checker\":null,\"auditState\":4,\"name\":\"刘顺美\",\"serviceId\":\"1\",\"releaseTime\":null,\"wechatCount\":null,\"isTop\":1,\"topDays\":7,\"isAct\":1,\"actId\":\"1443487478316142592\",\"releaseType\":0,\"videoPath\":\"\",\"urlType\":1,\"companyName\":null,\"rejectReason\":null,\"source\":\"人民日报\",\"isRead\":\"\",\"storagePath\":null,\"weiboArticleId\":null,\"createName\":null,\"secondaryColumn\":\"v03,,,\",\"isLocalAct\":0,\"actName\":\"2022劳动竞赛\",\"isLocal_data\":null,\"styleColor\":\"{\\\"id\\\": \\\"5\\\", \\\"bColor\\\": \\\"#FF9000\\\", \\\"eColor\\\": \\\"#FFCF29\\\"}\",\"topShowScore\":null,\"shortTitle\":null,\"videoSourcePath\":\"\",\"videoDirection\":0,\"activeType\":1,\"topTime\":null,\"readTotalNum\":0,\"shareImg\":\"/files/wechatShareTask/reduce//2022/4/27/img/20220427095724/20220427095724.jpg\",\"provinceName\":null,\"isTopArticle\":0,\"firstColumnNameStr\":null,\"secondaryColumnNameStr\":null},{\"id\":\"1519133271953379328\",\"createTime\":\"2022-04-27 09:56:11\",\"updateTime\":\"2022-04-27 09:56:11\",\"deleted\":\"0\",\"userId\":null,\"companyId\":\"\",\"title\":\"新闻1+1丨疫情之下，如何稳消费、稳经济？\",\"wechatArticleUrl\":\"https://content-static.cctvnews.cctv.com/snow-book/index.html?item_id=15353081532551080750&t=1651007005249&toc_style_id=feeds_default&share_to=wechat&track_id=21087740-1985-45a5-adaa-092d10d8839f\",\"display\":1,\"targetGuantity\":null,\"isType\":3,\"coverImg\":\"/files/wechatShareTask/reduce//2022/4/27/img/20220427095610/20220427095610.jpg\",\"newsContent\":\"\",\"newsName\":\"\",\"procInstId\":\"1716166\",\"checker\":null,\"auditState\":4,\"name\":\"刘顺美\",\"serviceId\":\"1\",\"releaseTime\":null,\"wechatCount\":null,\"isTop\":1,\"topDays\":7,\"isAct\":1,\"actId\":\"1443487478316142592\",\"releaseType\":0,\"videoPath\":\"\",\"urlType\":1,\"companyName\":null,\"rejectReason\":null,\"source\":\"央视新闻客户端\",\"isRead\":\"\",\"storagePath\":null,\"weiboArticleId\":null,\"createName\":null,\"secondaryColumn\":\"v03,,,\",\"isLocalAct\":0,\"actName\":\"2022劳动竞赛\",\"isLocal_data\":null,\"styleColor\":\"{\\\"id\\\": \\\"5\\\", \\\"bColor\\\": \\\"#FF9000\\\", \\\"eColor\\\": \\\"#FFCF29\\\"}\",\"topShowScore\":null,\"shortTitle\":null,\"videoSourcePath\":\"\",\"videoDirection\":0,\"activeType\":1,\"topTime\":null,\"readTotalNum\":0,\"shareImg\":\"/files/wechatShareTask/reduce//2022/4/27/img/20220427095610/20220427095610.jpg\",\"provinceName\":null,\"isTopArticle\":0,\"firstColumnNameStr\":null,\"secondaryColumnNameStr\":null},{\"id\":\"1519132994034601984\",\"createTime\":\"2022-04-27 09:55:05\",\"updateTime\":\"2022-04-27 09:55:05\",\"deleted\":\"0\",\"userId\":null,\"companyId\":\"\",\"title\":\"国家统计局：一季度全国规模以上工业企业实现利润总额19555.7亿元 同比增长8.5%\",\"wechatArticleUrl\":\"https://content-static.cctvnews.cctv.com/snow-book/index.html?item_id=2488834200192729770&t=1651023312242&toc_style_id=feeds_default&share_to=wechat&track_id=5a08b219-81a7-437d-895d-0fe4b8c8221f\",\"display\":1,\"targetGuantity\":null,\"isType\":3,\"coverImg\":\"/files/wechatShareTask/reduce//2022/4/27/img/20220427095504/20220427095504.jpg\",\"newsContent\":\"\",\"newsName\":\"\",\"procInstId\":\"1716155\",\"checker\":null,\"auditState\":4,\"name\":\"刘顺美\",\"serviceId\":\"1\",\"releaseTime\":null,\"wechatCount\":null,\"isTop\":1,\"topDays\":7,\"isAct\":1,\"actId\":\"1443487478316142592\",\"releaseType\":0,\"videoPath\":\"\",\"urlType\":1,\"companyName\":null,\"rejectReason\":null,\"source\":\"央视新闻客户端\",\"isRead\":\"\",\"storagePath\":null,\"weiboArticleId\":null,\"createName\":null,\"secondaryColumn\":\"v03,,,\",\"isLocalAct\":0,\"actName\":\"2022劳动竞赛\",\"isLocal_data\":null,\"styleColor\":\"{\\\"id\\\": \\\"5\\\", \\\"bColor\\\": \\\"#FF9000\\\", \\\"eColor\\\": \\\"#FFCF29\\\"}\",\"topShowScore\":null,\"shortTitle\":null,\"videoSourcePath\":\"\",\"videoDirection\":0,\"activeType\":1,\"topTime\":null,\"readTotalNum\":0,\"shareImg\":\"/files/wechatShareTask/reduce//2022/4/27/img/20220427095504/20220427095504.jpg\",\"provinceName\":null,\"isTopArticle\":0,\"firstColumnNameStr\":null,\"secondaryColumnNameStr\":null},{\"id\":\"1519132799561502720\",\"createTime\":\"2022-04-27 09:54:18\",\"updateTime\":\"2022-04-27 09:54:18\",\"deleted\":\"0\",\"userId\":null,\"companyId\":\"\",\"title\":\"习近平主持召开中央财经委员会第十一次会议强调 全面加强基础设施建设构建现代化基础设施体系 为全面建设社会主义现代化国家打下坚实基础\",\"wechatArticleUrl\":\"https://content-static.cctvnews.cctv.com/snow-book/index.html?item_id=10441859436041042000&t=1650979901964&toc_style_id=feeds_default&share_to=wechat&track_id=40f574e0-3cd2-4f14-bb67-fc186f160e52\",\"display\":1,\"targetGuantity\":null,\"isType\":3,\"coverImg\":\"/files/wechatShareTask/reduce//2022/4/27/img/20220427095418/20220427095418.jpg\",\"newsContent\":\"\",\"newsName\":\"\",\"procInstId\":\"1716144\",\"checker\":null,\"auditState\":4,\"name\":\"刘顺美\",\"serviceId\":\"1\",\"releaseTime\":null,\"wechatCount\":null,\"isTop\":1,\"topDays\":7,\"isAct\":1,\"actId\":\"1443487478316142592\",\"releaseType\":0,\"videoPath\":\"\",\"urlType\":1,\"companyName\":null,\"rejectReason\":null,\"source\":\"央视新闻客户端\",\"isRead\":\"\",\"storagePath\":null,\"weiboArticleId\":null,\"createName\":null,\"secondaryColumn\":\"v03,,,\",\"isLocalAct\":0,\"actName\":\"2022劳动竞赛\",\"isLocal_data\":null,\"styleColor\":\"{\\\"id\\\": \\\"5\\\", \\\"bColor\\\": \\\"#FF9000\\\", \\\"eColor\\\": \\\"#FFCF29\\\"}\",\"topShowScore\":null,\"shortTitle\":null,\"videoSourcePath\":\"\",\"videoDirection\":0,\"activeType\":1,\"topTime\":null,\"readTotalNum\":0,\"shareImg\":\"/files/wechatShareTask/reduce//2022/4/27/img/20220427095418/20220427095418.jpg\",\"provinceName\":null,\"isTopArticle\":0,\"firstColumnNameStr\":null,\"secondaryColumnNameStr\":null},{\"id\":\"1519132551174819840\",\"createTime\":\"2022-04-27 09:53:19\",\"updateTime\":\"2022-04-27 09:53:19\",\"deleted\":\"0\",\"userId\":null,\"companyId\":\"\",\"title\":\"全国统一式样！这张通行证助力打通物流“大动脉”\",\"wechatArticleUrl\":\"https://content-static.cctvnews.cctv.com/snow-book/index.html?item_id=4971727777013086935&t=1651005594827&toc_style_id=feeds_default&share_to=wechat&track_id=2691ae46-556e-441c-98bd-3ed9f1c5f13d\",\"display\":1,\"targetGuantity\":null,\"isType\":3,\"coverImg\":\"/files/wechatShareTask/reduce//2022/4/27/img/20220427095318/20220427095318.jpg\",\"newsContent\":\"\",\"newsName\":\"\",\"procInstId\":\"1716133\",\"checker\":null,\"auditState\":4,\"name\":\"刘顺美\",\"serviceId\":\"1\",\"releaseTime\":null,\"wechatCount\":null,\"isTop\":1,\"topDays\":7,\"isAct\":1,\"actId\":\"1443487478316142592\",\"releaseType\":0,\"videoPath\":\"\",\"urlType\":1,\"companyName\":null,\"rejectReason\":null,\"source\":\"央视新闻客户端\",\"isRead\":\"\",\"storagePath\":null,\"weiboArticleId\":null,\"createName\":null,\"secondaryColumn\":\"v03,,,\",\"isLocalAct\":0,\"actName\":\"2022劳动竞赛\",\"isLocal_data\":null,\"styleColor\":\"{\\\"id\\\": \\\"5\\\", \\\"bColor\\\": \\\"#FF9000\\\", \\\"eColor\\\": \\\"#FFCF29\\\"}\",\"topShowScore\":null,\"shortTitle\":null,\"videoSourcePath\":\"\",\"videoDirection\":0,\"activeType\":1,\"topTime\":null,\"readTotalNum\":0,\"shareImg\":\"/files/wechatShareTask/reduce//2022/4/27/img/20220427095318/20220427095318.jpg\",\"provinceName\":null,\"isTopArticle\":0,\"firstColumnNameStr\":null,\"secondaryColumnNameStr\":null},{\"id\":\"1518881147801702400\",\"createTime\":\"2022-04-26 17:14:20\",\"updateTime\":\"2022-04-26 17:14:20\",\"deleted\":\"0\",\"userId\":null,\"companyId\":\"\",\"title\":\"48小时，让“大白”用上新“核酸码手机”\",\"wechatArticleUrl\":\"https://weibo.com/1975415803/LqeLjtwry?from=page_1006061975415803_profile&wvr=6&mod=weibotime&type=comment#_rnd1650964245403\",\"display\":1,\"targetGuantity\":null,\"isType\":3,\"coverImg\":\"/files/wechatShareTask/reduce//2022/4/26/img/20220426171419/20220426171419.jpg\",\"newsContent\":\"\",\"newsName\":null,\"procInstId\":\"1715685\",\"checker\":null,\"auditState\":4,\"name\":\"刘顺美\",\"serviceId\":\"1\",\"releaseTime\":null,\"wechatCount\":null,\"isTop\":1,\"topDays\":7,\"isAct\":1,\"actId\":\"1443487478316142592\",\"releaseType\":0,\"videoPath\":\"\",\"urlType\":2,\"companyName\":null,\"rejectReason\":null,\"source\":\"中国电信\",\"isRead\":\"\",\"storagePath\":null,\"weiboArticleId\":\"4762532777036228\",\"createName\":null,\"secondaryColumn\":\"v03,,,\",\"isLocalAct\":0,\"actName\":\"2022劳动竞赛\",\"isLocal_data\":null,\"styleColor\":\"{\\\"id\\\": \\\"5\\\", \\\"bColor\\\": \\\"#FF9000\\\", \\\"eColor\\\": \\\"#FFCF29\\\"}\",\"topShowScore\":null,\"shortTitle\":\"\",\"videoSourcePath\":\"\",\"videoDirection\":0,\"activeType\":1,\"topTime\":null,\"readTotalNum\":0,\"shareImg\":\"/files/wechatShareTask/reduce//2022/4/26/img/20220426171419/20220426171419.jpg\",\"provinceName\":null,\"isTopArticle\":0,\"firstColumnNameStr\":null,\"secondaryColumnNameStr\":null},{\"id\":\"1518871146471231488\",\"createTime\":\"2022-04-26 16:34:35\",\"updateTime\":\"2022-04-26 16:34:35\",\"deleted\":\"0\",\"userId\":null,\"companyId\":\"\",\"title\":\"重磅！“牵手”中国联通，共启通话新时代！\",\"wechatArticleUrl\":\"https://mp.weixin.qq.com/s/i6HTkoNxNeEsrQBY892Nag\",\"display\":1,\"targetGuantity\":null,\"isType\":3,\"coverImg\":\"/files/wechatShareTask/reduce//2022/4/26/img/20220426163435/20220426163435.jpg\",\"newsContent\":\"\",\"newsName\":\"重磅！“牵手”中国联通，共启通话新时代！\",\"procInstId\":\"1715615\",\"checker\":null,\"auditState\":4,\"name\":\"陈博博\",\"serviceId\":\"1,3\",\"releaseTime\":null,\"wechatCount\":null,\"isTop\":1,\"topDays\":10,\"isAct\":1,\"actId\":\"1443487478316142592\",\"releaseType\":0,\"videoPath\":\"\",\"urlType\":1,\"companyName\":null,\"rejectReason\":null,\"source\":\"中国电信\",\"isRead\":\"\",\"storagePath\":null,\"weiboArticleId\":null,\"createName\":null,\"secondaryColumn\":\"v03,,v02,\",\"isLocalAct\":0,\"actName\":\"2022劳动竞赛\",\"isLocal_data\":null,\"styleColor\":\"{\\\"id\\\": \\\"5\\\", \\\"bColor\\\": \\\"#FF9000\\\", \\\"eColor\\\": \\\"#FFCF29\\\"}\",\"topShowScore\":null,\"shortTitle\":null,\"videoSourcePath\":\"\",\"videoDirection\":0,\"activeType\":1,\"topTime\":null,\"readTotalNum\":0,\"shareImg\":\"/files/wechatShareTask/reduce//2022/4/26/img/20220426163435/20220426163435.jpg\",\"provinceName\":null,\"isTopArticle\":0,\"firstColumnNameStr\":null,\"secondaryColumnNameStr\":null},{\"id\":\"1518501237312589824\",\"createTime\":\"2022-04-25 16:04:42\",\"updateTime\":\"2022-04-25 16:04:42\",\"deleted\":\"0\",\"userId\":null,\"companyId\":\"\",\"title\":\"共青团中央表彰！\",\"wechatArticleUrl\":\"https://mp.weixin.qq.com/s/mhxoE3wriiPIp9xd8Akpfg\",\"display\":1,\"targetGuantity\":null,\"isType\":3,\"coverImg\":\"/files/wechatShareTask/reduce//2022/4/25/img/20220425160441/20220425160441.jpg\",\"newsContent\":\"\",\"newsName\":\"共青团中央表彰！\",\"procInstId\":\"1712937\",\"checker\":null,\"auditState\":4,\"name\":\"陈博博\",\"serviceId\":\"1,3\",\"releaseTime\":null,\"wechatCount\":null,\"isTop\":1,\"topDays\":10,\"isAct\":1,\"actId\":\"1443487478316142592\",\"releaseType\":0,\"videoPath\":\"\",\"urlType\":1,\"companyName\":null,\"rejectReason\":null,\"source\":\"中国电信\",\"isRead\":\"\",\"storagePath\":null,\"weiboArticleId\":null,\"createName\":null,\"secondaryColumn\":\"v03,,v02,\",\"isLocalAct\":0,\"actName\":\"2022劳动竞赛\",\"isLocal_data\":null,\"styleColor\":\"{\\\"id\\\": \\\"5\\\", \\\"bColor\\\": \\\"#FF9000\\\", \\\"eColor\\\": \\\"#FFCF29\\\"}\",\"topShowScore\":null,\"shortTitle\":null,\"videoSourcePath\":\"\",\"videoDirection\":0,\"activeType\":1,\"topTime\":null,\"readTotalNum\":0,\"shareImg\":\"/files/wechatShareTask/reduce//2022/4/25/img/20220425160441/20220425160441.jpg\",\"provinceName\":null,\"isTopArticle\":0,\"firstColumnNameStr\":null,\"secondaryColumnNameStr\":null},{\"id\":\"1518494263225225216\",\"createTime\":\"2022-04-25 15:36:59\",\"updateTime\":\"2022-04-25 15:36:59\",\"deleted\":\"0\",\"userId\":null,\"companyId\":\"\",\"title\":\"打通“大动脉” 畅通“微循环”（保供纾困在行动）\",\"wechatArticleUrl\":\"https://wap.peopleapp.com/article/6649299/6524145\",\"display\":1,\"targetGuantity\":null,\"isType\":3,\"coverImg\":\"/files/wechatShareTask/reduce//2022/4/25/img/20220425153659/20220425153659.jpg\",\"newsContent\":\"\",\"newsName\":null,\"procInstId\":\"1712584\",\"checker\":null,\"auditState\":4,\"name\":\"刘顺美\",\"serviceId\":\"1\",\"releaseTime\":null,\"wechatCount\":null,\"isTop\":1,\"topDays\":7,\"isAct\":1,\"actId\":\"1443487478316142592\",\"releaseType\":0,\"videoPath\":\"\",\"urlType\":1,\"companyName\":null,\"rejectReason\":null,\"source\":\"人民日报\",\"isRead\":\"\",\"storagePath\":null,\"weiboArticleId\":null,\"createName\":null,\"secondaryColumn\":\"v03,,,\",\"isLocalAct\":0,\"actName\":\"2022劳动竞赛\",\"isLocal_data\":null,\"styleColor\":\"{\\\"id\\\": \\\"5\\\", \\\"bColor\\\": \\\"#FF9000\\\", \\\"eColor\\\": \\\"#FFCF29\\\"}\",\"topShowScore\":null,\"shortTitle\":\"\",\"videoSourcePath\":\"\",\"videoDirection\":0,\"activeType\":1,\"topTime\":null,\"readTotalNum\":0,\"shareImg\":\"/files/wechatShareTask/reduce//2022/4/25/img/20220425153659/20220425153659.jpg\",\"provinceName\":null,\"isTopArticle\":0,\"firstColumnNameStr\":null,\"secondaryColumnNameStr\":null}],\"pageNum\":1,\"pageSize\":10,\"size\":10,\"startRow\":1,\"endRow\":10,\"pages\":2483,\"prePage\":0,\"nextPage\":2,\"isFirstPage\":true,\"isLastPage\":false,\"hasPreviousPage\":false,\"hasNextPage\":true,\"navigatePages\":8,\"navigatepageNums\":[1,2,3,4,5,6,7,8],\"navigateFirstPage\":1,\"navigateLastPage\":8}}\n"
     ]
    }
   ],
   "source": [
    "###抽取所有数据历史数据（按时间）重要\n",
    "import requests\n",
    "\n",
    "url = \"https://mt.fjii.com/api/wechatShareTask/list\"\n",
    "#payload=\"title=&serviceId=1&pageSize=10000&pageNo=1&start_time=2022-01-01%2018%3A35%3A00&end_time=2022-01-31%2018%3A36%3A00&token_header=xOjqTc9vix%2FIQVwVMZmkpCwp4B2WafoeT991Rnx%2FJhmYF6H9Xv46EkHqmsU%2BjVVIZyeIygoJ8sDqdM7d4AfPy19p0ULjujQFFQMUEzFwNVRNw%2FJo8ou6CGPkfB%2B%2FLMlgX2y%2BudFF9SrsZ5kWvffVJg%3D%3D\"\n",
    "#注意这里有start_time 和end_time ,这个就是需要获取哪段时间的每条通信头条的id\n",
    "#token_header是你的token，需要用Fiddler获取，注意的是通信头条会每个几天更新token，更新后你得重新用Fiddler对token进行获取更新到这里\n",
    "payload=\"serviceId=1&secondaryColumn=1333926968260956160&pageSize=10&pageNo=2\"\n",
    "headers = {  \n",
    "    'Host':'mt.fjii.com'\n",
    "    \n",
    "}\n",
    "\n",
    "response = requests.request(\"POST\", url, headers=headers, data=payload)\n",
    "\n",
    "print(response.text)\n"
   ]
  },
  {
   "cell_type": "code",
   "execution_count": 17,
   "id": "841ffe7e",
   "metadata": {},
   "outputs": [],
   "source": [
    "#处理数据，提取id\n",
    "import json\n",
    "data=json.loads(response.text)\n",
    "dataid=data['data']['list']\n",
    "#print(dataid)\n",
    "data_by_user = {}\n",
    "list_id=[]\n",
    "for d in dataid:\n",
    "    data_by_user[d[\"id\"]] = {k:d[k] for k in (\"id\", \"urlType\")}\n",
    "    #print(data_by_user[d[\"id\"]])\n",
    "    list_id2=data_by_user.keys()\n",
    "    #list_2=data_by_user.values()\n",
    "    #print(list_id2)\n",
    "    #print(list_2)\n",
    "    list_id=list_id2\n",
    "file=open('C:\\\\tmp\\\\data2.txt','w')\n",
    "file.write(str(list_id)); \n",
    "file.close() \n",
    "   "
   ]
  },
  {
   "cell_type": "code",
   "execution_count": 1,
   "id": "34d70e97",
   "metadata": {},
   "outputs": [
    {
     "name": "stdout",
     "output_type": "stream",
     "text": [
      "{\"isLoadTip\":\"...\",\"user_id\":\"1316927879329746944\",\"wechat_share_task_id\":\"1519232814543933440\",\"type\":1,\"token_header\":\"xOjqTc9vix%2FIQVwVMZmkpCwp4B2WafoeT991Rnx%2FJhmYF6H9Xv46EkHqmsU%2BjVVIZyeIygoJ8sDqdM7d4AfPy19p0ULjujQFFQMUEzFwNVRNw%2FJo8ou6CGPkfB%2B%2FLMlgX2y%2BudFF9SrsZ5kWvffVJg%3D%3D\"}\n"
     ]
    },
    {
     "ename": "KeyboardInterrupt",
     "evalue": "",
     "output_type": "error",
     "traceback": [
      "\u001b[1;31m---------------------------------------------------------------------------\u001b[0m",
      "\u001b[1;31mKeyboardInterrupt\u001b[0m                         Traceback (most recent call last)",
      "\u001b[1;32m~\\AppData\\Local\\Temp/ipykernel_72948/2138582491.py\u001b[0m in \u001b[0;36m<module>\u001b[1;34m\u001b[0m\n\u001b[0;32m     32\u001b[0m     \u001b[0mpayloads\u001b[0m\u001b[1;33m=\u001b[0m\u001b[0mpayload\u001b[0m\u001b[1;33m+\u001b[0m\u001b[0mi\u001b[0m\u001b[1;33m+\u001b[0m\u001b[0mend\u001b[0m\u001b[1;33m\u001b[0m\u001b[1;33m\u001b[0m\u001b[0m\n\u001b[0;32m     33\u001b[0m     \u001b[0mprint\u001b[0m\u001b[1;33m(\u001b[0m\u001b[0mpayloads\u001b[0m\u001b[1;33m)\u001b[0m\u001b[1;33m\u001b[0m\u001b[1;33m\u001b[0m\u001b[0m\n\u001b[1;32m---> 34\u001b[1;33m     \u001b[0mresponse\u001b[0m \u001b[1;33m=\u001b[0m \u001b[0mrequests\u001b[0m\u001b[1;33m.\u001b[0m\u001b[0mrequest\u001b[0m\u001b[1;33m(\u001b[0m\u001b[1;34m\"POST\"\u001b[0m\u001b[1;33m,\u001b[0m \u001b[0murl\u001b[0m\u001b[1;33m,\u001b[0m \u001b[0mheaders\u001b[0m\u001b[1;33m=\u001b[0m\u001b[0mheaders\u001b[0m\u001b[1;33m,\u001b[0m \u001b[0mdata\u001b[0m\u001b[1;33m=\u001b[0m\u001b[0mpayloads\u001b[0m\u001b[1;33m)\u001b[0m\u001b[1;33m\u001b[0m\u001b[1;33m\u001b[0m\u001b[0m\n\u001b[0m\u001b[0;32m     35\u001b[0m     \u001b[0mprint\u001b[0m\u001b[1;33m(\u001b[0m\u001b[0mresponse\u001b[0m\u001b[1;33m.\u001b[0m\u001b[0mtext\u001b[0m\u001b[1;33m)\u001b[0m\u001b[1;33m\u001b[0m\u001b[1;33m\u001b[0m\u001b[0m\n\u001b[0;32m     36\u001b[0m     \u001b[0mtime\u001b[0m\u001b[1;33m.\u001b[0m\u001b[0msleep\u001b[0m\u001b[1;33m(\u001b[0m\u001b[1;36m3\u001b[0m\u001b[1;33m)\u001b[0m\u001b[1;33m\u001b[0m\u001b[1;33m\u001b[0m\u001b[0m\n",
      "\u001b[1;32mC:\\ProgramData\\Anaconda3\\lib\\site-packages\\requests\\api.py\u001b[0m in \u001b[0;36mrequest\u001b[1;34m(method, url, **kwargs)\u001b[0m\n\u001b[0;32m     59\u001b[0m     \u001b[1;31m# cases, and look like a memory leak in others.\u001b[0m\u001b[1;33m\u001b[0m\u001b[1;33m\u001b[0m\u001b[1;33m\u001b[0m\u001b[0m\n\u001b[0;32m     60\u001b[0m     \u001b[1;32mwith\u001b[0m \u001b[0msessions\u001b[0m\u001b[1;33m.\u001b[0m\u001b[0mSession\u001b[0m\u001b[1;33m(\u001b[0m\u001b[1;33m)\u001b[0m \u001b[1;32mas\u001b[0m \u001b[0msession\u001b[0m\u001b[1;33m:\u001b[0m\u001b[1;33m\u001b[0m\u001b[1;33m\u001b[0m\u001b[0m\n\u001b[1;32m---> 61\u001b[1;33m         \u001b[1;32mreturn\u001b[0m \u001b[0msession\u001b[0m\u001b[1;33m.\u001b[0m\u001b[0mrequest\u001b[0m\u001b[1;33m(\u001b[0m\u001b[0mmethod\u001b[0m\u001b[1;33m=\u001b[0m\u001b[0mmethod\u001b[0m\u001b[1;33m,\u001b[0m \u001b[0murl\u001b[0m\u001b[1;33m=\u001b[0m\u001b[0murl\u001b[0m\u001b[1;33m,\u001b[0m \u001b[1;33m**\u001b[0m\u001b[0mkwargs\u001b[0m\u001b[1;33m)\u001b[0m\u001b[1;33m\u001b[0m\u001b[1;33m\u001b[0m\u001b[0m\n\u001b[0m\u001b[0;32m     62\u001b[0m \u001b[1;33m\u001b[0m\u001b[0m\n\u001b[0;32m     63\u001b[0m \u001b[1;33m\u001b[0m\u001b[0m\n",
      "\u001b[1;32mC:\\ProgramData\\Anaconda3\\lib\\site-packages\\requests\\sessions.py\u001b[0m in \u001b[0;36mrequest\u001b[1;34m(self, method, url, params, data, headers, cookies, files, auth, timeout, allow_redirects, proxies, hooks, stream, verify, cert, json)\u001b[0m\n\u001b[0;32m    540\u001b[0m         }\n\u001b[0;32m    541\u001b[0m         \u001b[0msend_kwargs\u001b[0m\u001b[1;33m.\u001b[0m\u001b[0mupdate\u001b[0m\u001b[1;33m(\u001b[0m\u001b[0msettings\u001b[0m\u001b[1;33m)\u001b[0m\u001b[1;33m\u001b[0m\u001b[1;33m\u001b[0m\u001b[0m\n\u001b[1;32m--> 542\u001b[1;33m         \u001b[0mresp\u001b[0m \u001b[1;33m=\u001b[0m \u001b[0mself\u001b[0m\u001b[1;33m.\u001b[0m\u001b[0msend\u001b[0m\u001b[1;33m(\u001b[0m\u001b[0mprep\u001b[0m\u001b[1;33m,\u001b[0m \u001b[1;33m**\u001b[0m\u001b[0msend_kwargs\u001b[0m\u001b[1;33m)\u001b[0m\u001b[1;33m\u001b[0m\u001b[1;33m\u001b[0m\u001b[0m\n\u001b[0m\u001b[0;32m    543\u001b[0m \u001b[1;33m\u001b[0m\u001b[0m\n\u001b[0;32m    544\u001b[0m         \u001b[1;32mreturn\u001b[0m \u001b[0mresp\u001b[0m\u001b[1;33m\u001b[0m\u001b[1;33m\u001b[0m\u001b[0m\n",
      "\u001b[1;32mC:\\ProgramData\\Anaconda3\\lib\\site-packages\\requests\\sessions.py\u001b[0m in \u001b[0;36msend\u001b[1;34m(self, request, **kwargs)\u001b[0m\n\u001b[0;32m    653\u001b[0m \u001b[1;33m\u001b[0m\u001b[0m\n\u001b[0;32m    654\u001b[0m         \u001b[1;31m# Send the request\u001b[0m\u001b[1;33m\u001b[0m\u001b[1;33m\u001b[0m\u001b[1;33m\u001b[0m\u001b[0m\n\u001b[1;32m--> 655\u001b[1;33m         \u001b[0mr\u001b[0m \u001b[1;33m=\u001b[0m \u001b[0madapter\u001b[0m\u001b[1;33m.\u001b[0m\u001b[0msend\u001b[0m\u001b[1;33m(\u001b[0m\u001b[0mrequest\u001b[0m\u001b[1;33m,\u001b[0m \u001b[1;33m**\u001b[0m\u001b[0mkwargs\u001b[0m\u001b[1;33m)\u001b[0m\u001b[1;33m\u001b[0m\u001b[1;33m\u001b[0m\u001b[0m\n\u001b[0m\u001b[0;32m    656\u001b[0m \u001b[1;33m\u001b[0m\u001b[0m\n\u001b[0;32m    657\u001b[0m         \u001b[1;31m# Total elapsed time of the request (approximately)\u001b[0m\u001b[1;33m\u001b[0m\u001b[1;33m\u001b[0m\u001b[1;33m\u001b[0m\u001b[0m\n",
      "\u001b[1;32mC:\\ProgramData\\Anaconda3\\lib\\site-packages\\requests\\adapters.py\u001b[0m in \u001b[0;36msend\u001b[1;34m(self, request, stream, timeout, verify, cert, proxies)\u001b[0m\n\u001b[0;32m    437\u001b[0m         \u001b[1;32mtry\u001b[0m\u001b[1;33m:\u001b[0m\u001b[1;33m\u001b[0m\u001b[1;33m\u001b[0m\u001b[0m\n\u001b[0;32m    438\u001b[0m             \u001b[1;32mif\u001b[0m \u001b[1;32mnot\u001b[0m \u001b[0mchunked\u001b[0m\u001b[1;33m:\u001b[0m\u001b[1;33m\u001b[0m\u001b[1;33m\u001b[0m\u001b[0m\n\u001b[1;32m--> 439\u001b[1;33m                 resp = conn.urlopen(\n\u001b[0m\u001b[0;32m    440\u001b[0m                     \u001b[0mmethod\u001b[0m\u001b[1;33m=\u001b[0m\u001b[0mrequest\u001b[0m\u001b[1;33m.\u001b[0m\u001b[0mmethod\u001b[0m\u001b[1;33m,\u001b[0m\u001b[1;33m\u001b[0m\u001b[1;33m\u001b[0m\u001b[0m\n\u001b[0;32m    441\u001b[0m                     \u001b[0murl\u001b[0m\u001b[1;33m=\u001b[0m\u001b[0murl\u001b[0m\u001b[1;33m,\u001b[0m\u001b[1;33m\u001b[0m\u001b[1;33m\u001b[0m\u001b[0m\n",
      "\u001b[1;32mC:\\ProgramData\\Anaconda3\\lib\\site-packages\\urllib3\\connectionpool.py\u001b[0m in \u001b[0;36murlopen\u001b[1;34m(self, method, url, body, headers, retries, redirect, assert_same_host, timeout, pool_timeout, release_conn, chunked, body_pos, **response_kw)\u001b[0m\n\u001b[0;32m    694\u001b[0m             )\n\u001b[0;32m    695\u001b[0m             \u001b[1;32mif\u001b[0m \u001b[0mis_new_proxy_conn\u001b[0m \u001b[1;32mand\u001b[0m \u001b[0mhttp_tunnel_required\u001b[0m\u001b[1;33m:\u001b[0m\u001b[1;33m\u001b[0m\u001b[1;33m\u001b[0m\u001b[0m\n\u001b[1;32m--> 696\u001b[1;33m                 \u001b[0mself\u001b[0m\u001b[1;33m.\u001b[0m\u001b[0m_prepare_proxy\u001b[0m\u001b[1;33m(\u001b[0m\u001b[0mconn\u001b[0m\u001b[1;33m)\u001b[0m\u001b[1;33m\u001b[0m\u001b[1;33m\u001b[0m\u001b[0m\n\u001b[0m\u001b[0;32m    697\u001b[0m \u001b[1;33m\u001b[0m\u001b[0m\n\u001b[0;32m    698\u001b[0m             \u001b[1;31m# Make the request on the httplib connection object.\u001b[0m\u001b[1;33m\u001b[0m\u001b[1;33m\u001b[0m\u001b[1;33m\u001b[0m\u001b[0m\n",
      "\u001b[1;32mC:\\ProgramData\\Anaconda3\\lib\\site-packages\\urllib3\\connectionpool.py\u001b[0m in \u001b[0;36m_prepare_proxy\u001b[1;34m(self, conn)\u001b[0m\n\u001b[0;32m    962\u001b[0m             \u001b[0mconn\u001b[0m\u001b[1;33m.\u001b[0m\u001b[0mtls_in_tls_required\u001b[0m \u001b[1;33m=\u001b[0m \u001b[1;32mTrue\u001b[0m\u001b[1;33m\u001b[0m\u001b[1;33m\u001b[0m\u001b[0m\n\u001b[0;32m    963\u001b[0m \u001b[1;33m\u001b[0m\u001b[0m\n\u001b[1;32m--> 964\u001b[1;33m         \u001b[0mconn\u001b[0m\u001b[1;33m.\u001b[0m\u001b[0mconnect\u001b[0m\u001b[1;33m(\u001b[0m\u001b[1;33m)\u001b[0m\u001b[1;33m\u001b[0m\u001b[1;33m\u001b[0m\u001b[0m\n\u001b[0m\u001b[0;32m    965\u001b[0m \u001b[1;33m\u001b[0m\u001b[0m\n\u001b[0;32m    966\u001b[0m     \u001b[1;32mdef\u001b[0m \u001b[0m_new_conn\u001b[0m\u001b[1;33m(\u001b[0m\u001b[0mself\u001b[0m\u001b[1;33m)\u001b[0m\u001b[1;33m:\u001b[0m\u001b[1;33m\u001b[0m\u001b[1;33m\u001b[0m\u001b[0m\n",
      "\u001b[1;32mC:\\ProgramData\\Anaconda3\\lib\\site-packages\\urllib3\\connection.py\u001b[0m in \u001b[0;36mconnect\u001b[1;34m(self)\u001b[0m\n\u001b[0;32m    362\u001b[0m         \u001b[1;32mif\u001b[0m \u001b[0mself\u001b[0m\u001b[1;33m.\u001b[0m\u001b[0m_is_using_tunnel\u001b[0m\u001b[1;33m(\u001b[0m\u001b[1;33m)\u001b[0m\u001b[1;33m:\u001b[0m\u001b[1;33m\u001b[0m\u001b[1;33m\u001b[0m\u001b[0m\n\u001b[0;32m    363\u001b[0m             \u001b[1;32mif\u001b[0m \u001b[0mself\u001b[0m\u001b[1;33m.\u001b[0m\u001b[0mtls_in_tls_required\u001b[0m\u001b[1;33m:\u001b[0m\u001b[1;33m\u001b[0m\u001b[1;33m\u001b[0m\u001b[0m\n\u001b[1;32m--> 364\u001b[1;33m                 \u001b[0mconn\u001b[0m \u001b[1;33m=\u001b[0m \u001b[0mself\u001b[0m\u001b[1;33m.\u001b[0m\u001b[0m_connect_tls_proxy\u001b[0m\u001b[1;33m(\u001b[0m\u001b[0mhostname\u001b[0m\u001b[1;33m,\u001b[0m \u001b[0mconn\u001b[0m\u001b[1;33m)\u001b[0m\u001b[1;33m\u001b[0m\u001b[1;33m\u001b[0m\u001b[0m\n\u001b[0m\u001b[0;32m    365\u001b[0m                 \u001b[0mtls_in_tls\u001b[0m \u001b[1;33m=\u001b[0m \u001b[1;32mTrue\u001b[0m\u001b[1;33m\u001b[0m\u001b[1;33m\u001b[0m\u001b[0m\n\u001b[0;32m    366\u001b[0m \u001b[1;33m\u001b[0m\u001b[0m\n",
      "\u001b[1;32mC:\\ProgramData\\Anaconda3\\lib\\site-packages\\urllib3\\connection.py\u001b[0m in \u001b[0;36m_connect_tls_proxy\u001b[1;34m(self, hostname, conn)\u001b[0m\n\u001b[0;32m    499\u001b[0m         \u001b[1;31m# If no cert was provided, use only the default options for server\u001b[0m\u001b[1;33m\u001b[0m\u001b[1;33m\u001b[0m\u001b[1;33m\u001b[0m\u001b[0m\n\u001b[0;32m    500\u001b[0m         \u001b[1;31m# certificate validation\u001b[0m\u001b[1;33m\u001b[0m\u001b[1;33m\u001b[0m\u001b[1;33m\u001b[0m\u001b[0m\n\u001b[1;32m--> 501\u001b[1;33m         socket = ssl_wrap_socket(\n\u001b[0m\u001b[0;32m    502\u001b[0m             \u001b[0msock\u001b[0m\u001b[1;33m=\u001b[0m\u001b[0mconn\u001b[0m\u001b[1;33m,\u001b[0m\u001b[1;33m\u001b[0m\u001b[1;33m\u001b[0m\u001b[0m\n\u001b[0;32m    503\u001b[0m             \u001b[0mca_certs\u001b[0m\u001b[1;33m=\u001b[0m\u001b[0mself\u001b[0m\u001b[1;33m.\u001b[0m\u001b[0mca_certs\u001b[0m\u001b[1;33m,\u001b[0m\u001b[1;33m\u001b[0m\u001b[1;33m\u001b[0m\u001b[0m\n",
      "\u001b[1;32mC:\\ProgramData\\Anaconda3\\lib\\site-packages\\urllib3\\util\\ssl_.py\u001b[0m in \u001b[0;36mssl_wrap_socket\u001b[1;34m(sock, keyfile, certfile, cert_reqs, ca_certs, server_hostname, ssl_version, ciphers, ssl_context, ca_cert_dir, key_password, ca_cert_data, tls_in_tls)\u001b[0m\n\u001b[0;32m    451\u001b[0m         )\n\u001b[0;32m    452\u001b[0m     \u001b[1;32melse\u001b[0m\u001b[1;33m:\u001b[0m\u001b[1;33m\u001b[0m\u001b[1;33m\u001b[0m\u001b[0m\n\u001b[1;32m--> 453\u001b[1;33m         \u001b[0mssl_sock\u001b[0m \u001b[1;33m=\u001b[0m \u001b[0m_ssl_wrap_socket_impl\u001b[0m\u001b[1;33m(\u001b[0m\u001b[0msock\u001b[0m\u001b[1;33m,\u001b[0m \u001b[0mcontext\u001b[0m\u001b[1;33m,\u001b[0m \u001b[0mtls_in_tls\u001b[0m\u001b[1;33m)\u001b[0m\u001b[1;33m\u001b[0m\u001b[1;33m\u001b[0m\u001b[0m\n\u001b[0m\u001b[0;32m    454\u001b[0m     \u001b[1;32mreturn\u001b[0m \u001b[0mssl_sock\u001b[0m\u001b[1;33m\u001b[0m\u001b[1;33m\u001b[0m\u001b[0m\n\u001b[0;32m    455\u001b[0m \u001b[1;33m\u001b[0m\u001b[0m\n",
      "\u001b[1;32mC:\\ProgramData\\Anaconda3\\lib\\site-packages\\urllib3\\util\\ssl_.py\u001b[0m in \u001b[0;36m_ssl_wrap_socket_impl\u001b[1;34m(sock, ssl_context, tls_in_tls, server_hostname)\u001b[0m\n\u001b[0;32m    493\u001b[0m         \u001b[1;32mreturn\u001b[0m \u001b[0mssl_context\u001b[0m\u001b[1;33m.\u001b[0m\u001b[0mwrap_socket\u001b[0m\u001b[1;33m(\u001b[0m\u001b[0msock\u001b[0m\u001b[1;33m,\u001b[0m \u001b[0mserver_hostname\u001b[0m\u001b[1;33m=\u001b[0m\u001b[0mserver_hostname\u001b[0m\u001b[1;33m)\u001b[0m\u001b[1;33m\u001b[0m\u001b[1;33m\u001b[0m\u001b[0m\n\u001b[0;32m    494\u001b[0m     \u001b[1;32melse\u001b[0m\u001b[1;33m:\u001b[0m\u001b[1;33m\u001b[0m\u001b[1;33m\u001b[0m\u001b[0m\n\u001b[1;32m--> 495\u001b[1;33m         \u001b[1;32mreturn\u001b[0m \u001b[0mssl_context\u001b[0m\u001b[1;33m.\u001b[0m\u001b[0mwrap_socket\u001b[0m\u001b[1;33m(\u001b[0m\u001b[0msock\u001b[0m\u001b[1;33m)\u001b[0m\u001b[1;33m\u001b[0m\u001b[1;33m\u001b[0m\u001b[0m\n\u001b[0m",
      "\u001b[1;32mC:\\ProgramData\\Anaconda3\\lib\\ssl.py\u001b[0m in \u001b[0;36mwrap_socket\u001b[1;34m(self, sock, server_side, do_handshake_on_connect, suppress_ragged_eofs, server_hostname, session)\u001b[0m\n\u001b[0;32m    498\u001b[0m         \u001b[1;31m# SSLSocket class handles server_hostname encoding before it calls\u001b[0m\u001b[1;33m\u001b[0m\u001b[1;33m\u001b[0m\u001b[1;33m\u001b[0m\u001b[0m\n\u001b[0;32m    499\u001b[0m         \u001b[1;31m# ctx._wrap_socket()\u001b[0m\u001b[1;33m\u001b[0m\u001b[1;33m\u001b[0m\u001b[1;33m\u001b[0m\u001b[0m\n\u001b[1;32m--> 500\u001b[1;33m         return self.sslsocket_class._create(\n\u001b[0m\u001b[0;32m    501\u001b[0m             \u001b[0msock\u001b[0m\u001b[1;33m=\u001b[0m\u001b[0msock\u001b[0m\u001b[1;33m,\u001b[0m\u001b[1;33m\u001b[0m\u001b[1;33m\u001b[0m\u001b[0m\n\u001b[0;32m    502\u001b[0m             \u001b[0mserver_side\u001b[0m\u001b[1;33m=\u001b[0m\u001b[0mserver_side\u001b[0m\u001b[1;33m,\u001b[0m\u001b[1;33m\u001b[0m\u001b[1;33m\u001b[0m\u001b[0m\n",
      "\u001b[1;32mC:\\ProgramData\\Anaconda3\\lib\\ssl.py\u001b[0m in \u001b[0;36m_create\u001b[1;34m(cls, sock, server_side, do_handshake_on_connect, suppress_ragged_eofs, server_hostname, context, session)\u001b[0m\n\u001b[0;32m   1038\u001b[0m                         \u001b[1;31m# non-blocking\u001b[0m\u001b[1;33m\u001b[0m\u001b[1;33m\u001b[0m\u001b[1;33m\u001b[0m\u001b[0m\n\u001b[0;32m   1039\u001b[0m                         \u001b[1;32mraise\u001b[0m \u001b[0mValueError\u001b[0m\u001b[1;33m(\u001b[0m\u001b[1;34m\"do_handshake_on_connect should not be specified for non-blocking sockets\"\u001b[0m\u001b[1;33m)\u001b[0m\u001b[1;33m\u001b[0m\u001b[1;33m\u001b[0m\u001b[0m\n\u001b[1;32m-> 1040\u001b[1;33m                     \u001b[0mself\u001b[0m\u001b[1;33m.\u001b[0m\u001b[0mdo_handshake\u001b[0m\u001b[1;33m(\u001b[0m\u001b[1;33m)\u001b[0m\u001b[1;33m\u001b[0m\u001b[1;33m\u001b[0m\u001b[0m\n\u001b[0m\u001b[0;32m   1041\u001b[0m             \u001b[1;32mexcept\u001b[0m \u001b[1;33m(\u001b[0m\u001b[0mOSError\u001b[0m\u001b[1;33m,\u001b[0m \u001b[0mValueError\u001b[0m\u001b[1;33m)\u001b[0m\u001b[1;33m:\u001b[0m\u001b[1;33m\u001b[0m\u001b[1;33m\u001b[0m\u001b[0m\n\u001b[0;32m   1042\u001b[0m                 \u001b[0mself\u001b[0m\u001b[1;33m.\u001b[0m\u001b[0mclose\u001b[0m\u001b[1;33m(\u001b[0m\u001b[1;33m)\u001b[0m\u001b[1;33m\u001b[0m\u001b[1;33m\u001b[0m\u001b[0m\n",
      "\u001b[1;32mC:\\ProgramData\\Anaconda3\\lib\\ssl.py\u001b[0m in \u001b[0;36mdo_handshake\u001b[1;34m(self, block)\u001b[0m\n\u001b[0;32m   1307\u001b[0m             \u001b[1;32mif\u001b[0m \u001b[0mtimeout\u001b[0m \u001b[1;33m==\u001b[0m \u001b[1;36m0.0\u001b[0m \u001b[1;32mand\u001b[0m \u001b[0mblock\u001b[0m\u001b[1;33m:\u001b[0m\u001b[1;33m\u001b[0m\u001b[1;33m\u001b[0m\u001b[0m\n\u001b[0;32m   1308\u001b[0m                 \u001b[0mself\u001b[0m\u001b[1;33m.\u001b[0m\u001b[0msettimeout\u001b[0m\u001b[1;33m(\u001b[0m\u001b[1;32mNone\u001b[0m\u001b[1;33m)\u001b[0m\u001b[1;33m\u001b[0m\u001b[1;33m\u001b[0m\u001b[0m\n\u001b[1;32m-> 1309\u001b[1;33m             \u001b[0mself\u001b[0m\u001b[1;33m.\u001b[0m\u001b[0m_sslobj\u001b[0m\u001b[1;33m.\u001b[0m\u001b[0mdo_handshake\u001b[0m\u001b[1;33m(\u001b[0m\u001b[1;33m)\u001b[0m\u001b[1;33m\u001b[0m\u001b[1;33m\u001b[0m\u001b[0m\n\u001b[0m\u001b[0;32m   1310\u001b[0m         \u001b[1;32mfinally\u001b[0m\u001b[1;33m:\u001b[0m\u001b[1;33m\u001b[0m\u001b[1;33m\u001b[0m\u001b[0m\n\u001b[0;32m   1311\u001b[0m             \u001b[0mself\u001b[0m\u001b[1;33m.\u001b[0m\u001b[0msettimeout\u001b[0m\u001b[1;33m(\u001b[0m\u001b[0mtimeout\u001b[0m\u001b[1;33m)\u001b[0m\u001b[1;33m\u001b[0m\u001b[1;33m\u001b[0m\u001b[0m\n",
      "\u001b[1;31mKeyboardInterrupt\u001b[0m: "
     ]
    }
   ],
   "source": [
    "\n",
    "ids=[\"1519232814543933440\", \"1519133582210240512\", \"1519133271953379328\", \"1519132994034601984\", \"1519132799561502720\", \"1519132551174819840\", \"1518881147801702400\", \"1518871146471231488\", \"1518501237312589824\", \"1518494263225225216\"]#这个地方就是要进行刷分的通信头条每条信息的id\n",
    "\n",
    "import requests\n",
    "import time \n",
    "url=\"https://mt.fjii.com/api/wechatShareTask/shareSum\"\n",
    "\n",
    "#payload=\"{\\\"isLoadTip\\\":\\\"...\\\",\\\"user_id\\\":\\\"1316927879329746944\\\",\\\"wechat_share_task_id\\\":\\\"1414761988562751488\\\",\\\"type\\\":2,\\\"token_header\\\":\\\"xOjqTc9vix%2FIQVwVMZmkpCwp4B2WafoeT991Rnx%2FJhmYF6H9Xv46EkHqmsU%2BjVVIZyeIygoJ8sDqdM7d4AfPy19p0ULjujQFFQMUEzFwNVRNw%2FJo8ou6CGPkfB%2B%2FLMlgX2y%2BudFF9SrsZ5kWvffVJg%3D%3D\\\"}\"\n",
    "headers={\n",
    "'POSThttps':'//mt.fjii.com/api/wechatShareTask/shareSumHTTP/1.1',\n",
    "'Host':'mt.fjii.com',\n",
    "'Connection':'keep-alive',\n",
    "'Content-Length':'302',\n",
    "'Accept':'application/json,text/plain,*/*',\n",
    "'User-Agent':'Mozilla/5.0(Linux;Android10;ALP-AL00Build/HUAWEIALP-AL00;wv)AppleWebKit/537.36(KHTML,likeGecko)Version/4.0Chrome/83.0.4103.106MobileSafari/537.36wpsystem',\n",
    "'Content-Type':'application/json;charset=UTF-8',\n",
    "'Origin':'https://mt.fjii.com',\n",
    "'X-Requested-With':'com.fuzhou.wpsystem',\n",
    "'Sec-Fetch-Site':'same-origin',\n",
    "'Sec-Fetch-Mode':'cors',\n",
    "'Sec-Fetch-Dest':'empty',\n",
    "'Accept-Encoding':'gzip,deflate',\n",
    "'Accept-Language':'zh-CN,zh;q=0.9,en-US;q=0.8,en;q=0.7',\n",
    "  'Cookie': 'token=cd0cb6cf-e545-41ac-a2ea-ffb3f84c9539'\n",
    "}\n",
    "\n",
    "\n",
    "payload=\"{\\\"isLoadTip\\\":\\\"...\\\",\\\"user_id\\\":\\\"1316927879329746944\\\",\\\"wechat_share_task_id\\\":\\\"\"\n",
    "#for i in range(173740533760,973740533760):\n",
    "nums=1\n",
    "for i in ids:\n",
    "    end=\"\\\",\\\"type\\\":1,\\\"token_header\\\":\\\"xOjqTc9vix%2FIQVwVMZmkpCwp4B2WafoeT991Rnx%2FJhmYF6H9Xv46EkHqmsU%2BjVVIZyeIygoJ8sDqdM7d4AfPy19p0ULjujQFFQMUEzFwNVRNw%2FJo8ou6CGPkfB%2B%2FLMlgX2y%2BudFF9SrsZ5kWvffVJg%3D%3D\\\"}\"\n",
    "    payloads=payload+i+end\n",
    "    print(payloads)\n",
    "    response = requests.request(\"POST\", url, headers=headers, data=payloads)\n",
    "    print(response.text)\n",
    "    time.sleep(3)     \n",
    "    \n",
    "    end=\"\\\",\\\"type\\\":2,\\\"token_header\\\":\\\"xOjqTc9vix%2FIQVwVMZmkpCwp4B2WafoeT991Rnx%2FJhmYF6H9Xv46EkHqmsU%2BjVVIZyeIygoJ8sDqdM7d4AfPy19p0ULjujQFFQMUEzFwNVRNw%2FJo8ou6CGPkfB%2B%2FLMlgX2y%2BudFF9SrsZ5kWvffVJg%3D%3D\\\"}\"\n",
    "    payloads=payload+i+end\n",
    "    response = requests.request(\"POST\", url, headers=headers, data=payloads)\n",
    "    print(response.text)\n",
    "    time.sleep(3)\n",
    "    \n",
    "    end=\"\\\",\\\"type\\\":3,\\\"token_header\\\":\\\"xOjqTc9vix%2FIQVwVMZmkpCwp4B2WafoeT991Rnx%2FJhmYF6H9Xv46EkHqmsU%2BjVVIZyeIygoJ8sDqdM7d4AfPy19p0ULjujQFFQMUEzFwNVRNw%2FJo8ou6CGPkfB%2B%2FLMlgX2y%2BudFF9SrsZ5kWvffVJg%3D%3D\\\"}\"\n",
    "    payloads=payload+i+end\n",
    "    response = requests.request(\"POST\", url, headers=headers, data=payloads)\n",
    "    print(response.text)\n",
    "    time.sleep(3)  \n",
    "    \n",
    "    end=\"\\\",\\\"type\\\":4,\\\"token_header\\\":\\\"xOjqTc9vix%2FIQVwVMZmkpCwp4B2WafoeT991Rnx%2FJhmYF6H9Xv46EkHqmsU%2BjVVIZyeIygoJ8sDqdM7d4AfPy19p0ULjujQFFQMUEzFwNVRNw%2FJo8ou6CGPkfB%2B%2FLMlgX2y%2BudFF9SrsZ5kWvffVJg%3D%3D\\\"}\"\n",
    "    payloads=payload+i+end\n",
    "    response = requests.request(\"POST\", url, headers=headers, data=payloads)\n",
    "    print(response.text)\n",
    "    time.sleep(3)  \n",
    "    \n",
    "    \n",
    "    end=\"\\\",\\\"type\\\":5,\\\"token_header\\\":\\\"xOjqTc9vix%2FIQVwVMZmkpCwp4B2WafoeT991Rnx%2FJhmYF6H9Xv46EkHqmsU%2BjVVIZyeIygoJ8sDqdM7d4AfPy19p0ULjujQFFQMUEzFwNVRNw%2FJo8ou6CGPkfB%2B%2FLMlgX2y%2BudFF9SrsZ5kWvffVJg%3D%3D\\\"}\"\n",
    "    payloads=payload+i+end\n",
    "    response = requests.request(\"POST\", url, headers=headers, data=payloads)\n",
    "    print(response.text)\n",
    "    time.sleep(3)\n",
    "    \n",
    "    end=\"\\\",\\\"type\\\":6,\\\"token_header\\\":\\\"xOjqTc9vix%2FIQVwVMZmkpCwp4B2WafoeT991Rnx%2FJhmYF6H9Xv46EkHqmsU%2BjVVIZyeIygoJ8sDqdM7d4AfPy19p0ULjujQFFQMUEzFwNVRNw%2FJo8ou6CGPkfB%2B%2FLMlgX2y%2BudFF9SrsZ5kWvffVJg%3D%3D\\\"}\"\n",
    "    payloads=payload+i+end\n",
    "    response = requests.request(\"POST\", url, headers=headers, data=payloads)\n",
    "    print(response.text)\n",
    "    time.sleep(3)\n",
    "    print(nums)    \n",
    "    nums=nums+1\n",
    "print(\"刷分结束\")"
   ]
  },
  {
   "cell_type": "code",
   "execution_count": null,
   "id": "27bf5803",
   "metadata": {},
   "outputs": [],
   "source": []
  }
 ],
 "metadata": {
  "kernelspec": {
   "display_name": "Python 3 (ipykernel)",
   "language": "python",
   "name": "python3"
  },
  "language_info": {
   "codemirror_mode": {
    "name": "ipython",
    "version": 3
   },
   "file_extension": ".py",
   "mimetype": "text/x-python",
   "name": "python",
   "nbconvert_exporter": "python",
   "pygments_lexer": "ipython3",
   "version": "3.8.12"
  }
 },
 "nbformat": 4,
 "nbformat_minor": 5
}
